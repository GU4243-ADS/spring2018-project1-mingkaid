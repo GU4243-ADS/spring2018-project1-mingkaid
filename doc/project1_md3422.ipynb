{
 "cells": [
  {
   "cell_type": "markdown",
   "metadata": {},
   "source": [
    "## Section 0. Ensure Dependencies"
   ]
  },
  {
   "cell_type": "code",
   "execution_count": 1,
   "metadata": {},
   "outputs": [
    {
     "name": "stderr",
     "output_type": "stream",
     "text": [
      "Installing package into ‘/usr/local/lib/R/site-library’\n",
      "(as ‘lib’ is unspecified)\n",
      "also installing the dependencies ‘dtt’, ‘syuzhet’, ‘english’, ‘lexicon’, ‘qdapRegex’, ‘textshape’\n",
      "\n"
     ]
    }
   ],
   "source": [
    "install.packages('textclean', dependencies = TRUE, repos = 'http://cran.us.r-project.org')"
   ]
  },
  {
   "cell_type": "code",
   "execution_count": 2,
   "metadata": {},
   "outputs": [
    {
     "name": "stderr",
     "output_type": "stream",
     "text": [
      "\n",
      "Attaching package: ‘dplyr’\n",
      "\n",
      "The following objects are masked from ‘package:stats’:\n",
      "\n",
      "    filter, lag\n",
      "\n",
      "The following objects are masked from ‘package:base’:\n",
      "\n",
      "    intersect, setdiff, setequal, union\n",
      "\n"
     ]
    }
   ],
   "source": [
    "library(tidytext)\n",
    "library(magrittr)\n",
    "library(dplyr)\n",
    "library(stringr)\n",
    "library(textclean)"
   ]
  },
  {
   "cell_type": "markdown",
   "metadata": {},
   "source": [
    "## Section 1. Data Preparation"
   ]
  },
  {
   "cell_type": "markdown",
   "metadata": {},
   "source": [
    "### Step 1: Read Data"
   ]
  },
  {
   "cell_type": "code",
   "execution_count": 14,
   "metadata": {
    "scrolled": true
   },
   "outputs": [],
   "source": [
    "spooky <- read.csv('../data/spooky.csv', as.is = TRUE)\n",
    "spooky$author <- spooky$author %>% as.factor()\n",
    "spooky$text <- spooky$text %>% replace_contraction()"
   ]
  },
  {
   "cell_type": "markdown",
   "metadata": {},
   "source": [
    "### Step 2: Process Data - Split sentences into words\n",
    "\n",
    "We use `unnest_tokens()` to process the data into tidy format for ease of analysis. For the subsequent analyses, we need:\n",
    "- One dataframe that drops punctuations, turns words into lower case, but does not remove stop words\n",
    "- One dataframe that drops punctuations, removes everything with higher case, removes all stop words, then turned to lower case"
   ]
  },
  {
   "cell_type": "code",
   "execution_count": 19,
   "metadata": {},
   "outputs": [],
   "source": [
    "sws <- spooky_with_stopwords <- spooky %>% \n",
    "    unnest_tokens(word, text)\n",
    "soc <- spooky_original_case <- spooky %>% \n",
    "    unnest_tokens(word, text, to_lower = FALSE) %>%\n",
    "    drop_row('word', c('[A-Z]')) %>% \n",
    "    anti_join(stop_words, by = \"word\")"
   ]
  },
  {
   "cell_type": "markdown",
   "metadata": {},
   "source": [
    "## Section 2. \"Gothic\" Keywords Comparison"
   ]
  },
  {
   "cell_type": "markdown",
   "metadata": {},
   "source": [
    "In this section, we will compare the relative frequency of British Gothic keywords identified by [Jones (2010)](https://www.era.lib.ed.ac.uk/bitstream/handle/1842/5351/Dissertation_Final.pdf;sequence=1), which include \n",
    "- Pronouns (especially first-person and second-person)\n",
    "    - Examples: I, me, myself, you, yourself, etc.\n",
    "- Vocatives (names, titles, etc.)\n",
    "    - Examples: Adrian, Miss, Mr, etc.\n",
    "- Body parts \n",
    "    - Examples: Arms, foreheads, lips, etc.\n",
    "- \"Gothic\" words (words related to a dark and supernatural atmosphere)\n",
    "    - Examples: Fear, curiosity, silence, dark, dead, spirit\n",
    "\n",
    "Because vocatives, especially names, are hard to identify given the time constraint of this project, we decide to examine the other three categories of keywords. In all cases, we define a word's relative frequenncy as \n",
    "$$\n",
    "    \\text{rel_freq}(\\text{word}, \\text{author}) \n",
    "    = \\frac{\\text{# occurrence of word}}{\\text{total # words by author}}\n",
    "$$"
   ]
  },
  {
   "cell_type": "code",
   "execution_count": 20,
   "metadata": {
    "scrolled": true
   },
   "outputs": [
    {
     "data": {
      "text/html": [
       "<table>\n",
       "<thead><tr><th></th><th scope=col>id</th><th scope=col>author</th><th scope=col>word</th></tr></thead>\n",
       "<tbody>\n",
       "\t<tr><th scope=row>1</th><td>id26305 </td><td>EAP     </td><td>this    </td></tr>\n",
       "\t<tr><th scope=row>1.1</th><td>id26305 </td><td>EAP     </td><td>process </td></tr>\n",
       "\t<tr><th scope=row>1.2</th><td>id26305 </td><td>EAP     </td><td>however </td></tr>\n",
       "\t<tr><th scope=row>1.3</th><td>id26305 </td><td>EAP     </td><td>afforded</td></tr>\n",
       "\t<tr><th scope=row>1.4</th><td>id26305 </td><td>EAP     </td><td>me      </td></tr>\n",
       "\t<tr><th scope=row>1.5</th><td>id26305 </td><td>EAP     </td><td>no      </td></tr>\n",
       "</tbody>\n",
       "</table>\n"
      ],
      "text/latex": [
       "\\begin{tabular}{r|lll}\n",
       "  & id & author & word\\\\\n",
       "\\hline\n",
       "\t1 & id26305  & EAP      & this    \\\\\n",
       "\t1.1 & id26305  & EAP      & process \\\\\n",
       "\t1.2 & id26305  & EAP      & however \\\\\n",
       "\t1.3 & id26305  & EAP      & afforded\\\\\n",
       "\t1.4 & id26305  & EAP      & me      \\\\\n",
       "\t1.5 & id26305  & EAP      & no      \\\\\n",
       "\\end{tabular}\n"
      ],
      "text/markdown": [
       "\n",
       "| <!--/--> | id | author | word | \n",
       "|---|---|---|---|---|---|\n",
       "| 1 | id26305  | EAP      | this     | \n",
       "| 1.1 | id26305  | EAP      | process  | \n",
       "| 1.2 | id26305  | EAP      | however  | \n",
       "| 1.3 | id26305  | EAP      | afforded | \n",
       "| 1.4 | id26305  | EAP      | me       | \n",
       "| 1.5 | id26305  | EAP      | no       | \n",
       "\n",
       "\n"
      ],
      "text/plain": [
       "    id      author word    \n",
       "1   id26305 EAP    this    \n",
       "1.1 id26305 EAP    process \n",
       "1.2 id26305 EAP    however \n",
       "1.3 id26305 EAP    afforded\n",
       "1.4 id26305 EAP    me      \n",
       "1.5 id26305 EAP    no      "
      ]
     },
     "metadata": {},
     "output_type": "display_data"
    }
   ],
   "source": [
    "head(sws)"
   ]
  },
  {
   "cell_type": "code",
   "execution_count": 27,
   "metadata": {},
   "outputs": [],
   "source": [
    "# For pronouns\n",
    "# Word count by author\n",
    "author_words = sws %>%\n",
    "    group_by(author) %>%\n",
    "    count()\n",
    "# Count of every word for each author\n",
    "author_word_count = sws %>%\n",
    "    group_by(author, word) %>%\n",
    "    count()"
   ]
  },
  {
   "cell_type": "code",
   "execution_count": 36,
   "metadata": {},
   "outputs": [],
   "source": [
    "author_word_counts <- author_word_count %>% \n",
    "    select(author, word, count = n) %>%\n",
    "    left_join(author_words %>% \n",
    "                 select(author, total_count = n),\n",
    "              by = 'author')"
   ]
  },
  {
   "cell_type": "code",
   "execution_count": 37,
   "metadata": {
    "scrolled": true
   },
   "outputs": [],
   "source": [
    "author_word_counts$rel_freq = author_word_counts$count / author_word_counts$total_count"
   ]
  },
  {
   "cell_type": "code",
   "execution_count": 41,
   "metadata": {},
   "outputs": [
    {
     "data": {
      "text/html": [
       "<table>\n",
       "<thead><tr><th scope=col>author</th><th scope=col>word</th><th scope=col>count</th><th scope=col>total_count</th><th scope=col>rel_freq</th></tr></thead>\n",
       "<tbody>\n",
       "\t<tr><td>EAP       </td><td>the       </td><td>14993     </td><td>200988    </td><td>0.07459649</td></tr>\n",
       "\t<tr><td>HPL       </td><td>the       </td><td>10933     </td><td>156608    </td><td>0.06981125</td></tr>\n",
       "\t<tr><td>MWS       </td><td>the       </td><td> 9659     </td><td>165700    </td><td>0.05829209</td></tr>\n",
       "\t<tr><td>EAP       </td><td>of        </td><td> 8972     </td><td>200988    </td><td>0.04463948</td></tr>\n",
       "\t<tr><td>HPL       </td><td>and       </td><td> 6098     </td><td>156608    </td><td>0.03893799</td></tr>\n",
       "\t<tr><td>HPL       </td><td>of        </td><td> 5846     </td><td>156608    </td><td>0.03732887</td></tr>\n",
       "</tbody>\n",
       "</table>\n"
      ],
      "text/latex": [
       "\\begin{tabular}{r|lllll}\n",
       " author & word & count & total\\_count & rel\\_freq\\\\\n",
       "\\hline\n",
       "\t EAP        & the        & 14993      & 200988     & 0.07459649\\\\\n",
       "\t HPL        & the        & 10933      & 156608     & 0.06981125\\\\\n",
       "\t MWS        & the        &  9659      & 165700     & 0.05829209\\\\\n",
       "\t EAP        & of         &  8972      & 200988     & 0.04463948\\\\\n",
       "\t HPL        & and        &  6098      & 156608     & 0.03893799\\\\\n",
       "\t HPL        & of         &  5846      & 156608     & 0.03732887\\\\\n",
       "\\end{tabular}\n"
      ],
      "text/markdown": [
       "\n",
       "author | word | count | total_count | rel_freq | \n",
       "|---|---|---|---|---|---|\n",
       "| EAP        | the        | 14993      | 200988     | 0.07459649 | \n",
       "| HPL        | the        | 10933      | 156608     | 0.06981125 | \n",
       "| MWS        | the        |  9659      | 165700     | 0.05829209 | \n",
       "| EAP        | of         |  8972      | 200988     | 0.04463948 | \n",
       "| HPL        | and        |  6098      | 156608     | 0.03893799 | \n",
       "| HPL        | of         |  5846      | 156608     | 0.03732887 | \n",
       "\n",
       "\n"
      ],
      "text/plain": [
       "  author word count total_count rel_freq  \n",
       "1 EAP    the  14993 200988      0.07459649\n",
       "2 HPL    the  10933 156608      0.06981125\n",
       "3 MWS    the   9659 165700      0.05829209\n",
       "4 EAP    of    8972 200988      0.04463948\n",
       "5 HPL    and   6098 156608      0.03893799\n",
       "6 HPL    of    5846 156608      0.03732887"
      ]
     },
     "metadata": {},
     "output_type": "display_data"
    }
   ],
   "source": [
    "head(author_word_counts[order(-author_word_counts$rel_freq),])"
   ]
  },
  {
   "cell_type": "markdown",
   "metadata": {},
   "source": [
    "## Section 3. Gothic keywords comparison"
   ]
  },
  {
   "cell_type": "markdown",
   "metadata": {},
   "source": [
    "## Section 4. Statistical Test"
   ]
  },
  {
   "cell_type": "markdown",
   "metadata": {},
   "source": [
    "## Section 5. k-means on sentence sentiments"
   ]
  },
  {
   "cell_type": "code",
   "execution_count": null,
   "metadata": {},
   "outputs": [],
   "source": []
  }
 ],
 "metadata": {
  "kernelspec": {
   "display_name": "R",
   "language": "R",
   "name": "ir"
  },
  "language_info": {
   "codemirror_mode": "r",
   "file_extension": ".r",
   "mimetype": "text/x-r-source",
   "name": "R",
   "pygments_lexer": "r",
   "version": "3.4.3"
  }
 },
 "nbformat": 4,
 "nbformat_minor": 2
}
