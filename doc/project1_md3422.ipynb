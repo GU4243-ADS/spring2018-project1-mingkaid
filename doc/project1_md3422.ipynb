{
 "cells": [
  {
   "cell_type": "markdown",
   "metadata": {},
   "source": [
    "## Section 0. Ensure Dependencies"
   ]
  },
  {
   "cell_type": "code",
   "execution_count": 83,
   "metadata": {},
   "outputs": [
    {
     "name": "stderr",
     "output_type": "stream",
     "text": [
      "Installing package into ‘/usr/local/lib/R/site-library’\n",
      "(as ‘lib’ is unspecified)\n"
     ]
    }
   ],
   "source": [
    "install.packages('reshape2', dependencies = TRUE, repos = 'http://cran.us.r-project.org')"
   ]
  },
  {
   "cell_type": "code",
   "execution_count": 84,
   "metadata": {},
   "outputs": [],
   "source": [
    "library(tidytext)\n",
    "library(magrittr)\n",
    "library(dplyr)\n",
    "library(stringr)\n",
    "library(textclean)\n",
    "library(ggplot2)\n",
    "library(reshape2)"
   ]
  },
  {
   "cell_type": "markdown",
   "metadata": {},
   "source": [
    "## Section 1. Data Preparation"
   ]
  },
  {
   "cell_type": "markdown",
   "metadata": {},
   "source": [
    "### Step 1: Read Data"
   ]
  },
  {
   "cell_type": "code",
   "execution_count": 14,
   "metadata": {
    "scrolled": true
   },
   "outputs": [],
   "source": [
    "spooky <- read.csv('../data/spooky.csv', as.is = TRUE)\n",
    "spooky$author <- spooky$author %>% as.factor()\n",
    "spooky$text <- spooky$text %>% replace_contraction()"
   ]
  },
  {
   "cell_type": "markdown",
   "metadata": {},
   "source": [
    "### Step 2: Process Data - Split sentences into words\n",
    "\n",
    "We use `unnest_tokens()` to process the data into tidy format for ease of analysis. For the subsequent analyses, we need:\n",
    "- One dataframe that drops punctuations, turns words into lower case, but does not remove stop words\n",
    "- One dataframe that drops punctuations, removes everything with higher case, removes all stop words, then turned to lower case"
   ]
  },
  {
   "cell_type": "code",
   "execution_count": 19,
   "metadata": {},
   "outputs": [],
   "source": [
    "sws <- spooky_with_stopwords <- spooky %>% \n",
    "    unnest_tokens(word, text)\n",
    "soc <- spooky_original_case <- spooky %>% \n",
    "    unnest_tokens(word, text, to_lower = FALSE) %>%\n",
    "    drop_row('word', c('[A-Z]')) %>% \n",
    "    anti_join(stop_words, by = \"word\")"
   ]
  },
  {
   "cell_type": "markdown",
   "metadata": {},
   "source": [
    "## Section 2. \"Gothic\" Keywords Comparison"
   ]
  },
  {
   "cell_type": "markdown",
   "metadata": {},
   "source": [
    "In this section, we will compare the relative frequency of British Gothic keywords identified by [Jones (2010)](https://www.era.lib.ed.ac.uk/bitstream/handle/1842/5351/Dissertation_Final.pdf;sequence=1), which include \n",
    "- Pronouns (especially first-person and second-person)\n",
    "    - Examples: I, me, myself, you, yourself, etc.\n",
    "- Vocatives (names, titles, etc.)\n",
    "    - Examples: Adrian, Miss, Mr, etc.\n",
    "- Body parts \n",
    "    - Examples: Arms, foreheads, lips, etc.\n",
    "- \"Gothic\" words (words related to a dark and supernatural atmosphere)\n",
    "    - Examples: Fear, curiosity, silence, dark, dead, spirit\n",
    "\n",
    "Because the identification of vocatives, especially names, deserves attention as a project on its own, I decide to examine the other three categories of keywords. Jones (2010) identified Gothic keywords as those that appear more frequently in Gothic writing than in a general English corpus. In this project, we choose compare the distribution of these keywords in our dataset against the \"Gothic\" pattern he discovered. \n",
    "\n",
    "Because in our dataset, the three authors have different numbers of sentences, we scale the word frequency of each author by the total number of words by each author. \n",
    "$$\n",
    "    \\text{rel_freq}(\\text{word}, \\text{author}) \n",
    "    = \\frac{\\text{# occurrence of word}}{\\text{total # words by author}}\n",
    "$$\n"
   ]
  },
  {
   "cell_type": "code",
   "execution_count": 27,
   "metadata": {},
   "outputs": [],
   "source": [
    "# For pronouns\n",
    "# Word count by author\n",
    "author_count = sws %>%\n",
    "    group_by(author) %>%\n",
    "    count()\n",
    "# Count of every word for each author\n",
    "author_word_count = sws %>%\n",
    "    group_by(author, word) %>%\n",
    "    count()"
   ]
  },
  {
   "cell_type": "code",
   "execution_count": 54,
   "metadata": {},
   "outputs": [],
   "source": [
    "author_rel_freq <- author_word_count %>% \n",
    "    select(author, word, count = n) %>%\n",
    "    left_join(author_words %>% \n",
    "                 select(author, total_count = n),\n",
    "              by = 'author') %>% \n",
    "    mutate(rel_freq = count / total_count) %>%\n",
    "    select(.data$author, .data$word, .data$rel_freq)\n",
    "author_rel_freq <- author_rel_freq[order(-author_rel_freq$rel_freq),]"
   ]
  },
  {
   "cell_type": "code",
   "execution_count": 76,
   "metadata": {},
   "outputs": [],
   "source": [
    "# Obtain rankings\n",
    "author_rel_freq$rank <- NA\n",
    "EAP_words = author_rel_freq[author_rel_freq$author == 'EAP',] \n",
    "HPL_words = author_rel_freq[author_rel_freq$author == 'HPL',]\n",
    "MWS_words = author_rel_freq[author_rel_freq$author == 'MWS',]\n",
    "\n",
    "author_rel_freq[author_rel_freq$author == 'EAP','rank'] <- 1:nrow(EAP_words)\n",
    "author_rel_freq[author_rel_freq$author == 'HPL','rank'] <- 1:nrow(HPL_words)\n",
    "author_rel_freq[author_rel_freq$author == 'MWS','rank'] <- 1:nrow(MWS_words)"
   ]
  },
  {
   "cell_type": "code",
   "execution_count": 93,
   "metadata": {},
   "outputs": [
    {
     "data": {},
     "metadata": {},
     "output_type": "display_data"
    },
    {
     "data": {
      "image/png": "[encoded data removed]",
      "text/plain": [
       "plot without title"
      ]
     },
     "metadata": {},
     "output_type": "display_data"
    }
   ],
   "source": [
    "pronouns <- c('i', 'my', 'me', 'myself', 'you', 'your', 'he', 'his', 'him', 'himself', \n",
    "              'she', 'her', 'mine', 'whom')\n",
    "author_pronoun_rel_freq <- author_rel_freq[author_rel_freq$word %in% pronouns,]\n",
    "\n",
    "options(repr.plot.width = 6, repr.plot.height = 3)\n",
    "ggplot(author_pronoun_rel_freq, aes(x=word, y=log(rank), fill = author)) + \n",
    "    geom_bar(position=\"dodge\", stat=\"identity\") "
   ]
  },
  {
   "cell_type": "markdown",
   "metadata": {},
   "source": [
    "## Section 3. Gothic keywords comparison"
   ]
  },
  {
   "cell_type": "markdown",
   "metadata": {},
   "source": [
    "## Section 4. Statistical Test"
   ]
  },
  {
   "cell_type": "markdown",
   "metadata": {},
   "source": [
    "## Section 5. k-means on sentence sentiments"
   ]
  },
  {
   "cell_type": "code",
   "execution_count": null,
   "metadata": {},
   "outputs": [],
   "source": []
  }
 ],
 "metadata": {
  "kernelspec": {
   "display_name": "R",
   "language": "R",
   "name": "ir"
  },
  "language_info": {
   "codemirror_mode": "r",
   "file_extension": ".r",
   "mimetype": "text/x-r-source",
   "name": "R",
   "pygments_lexer": "r",
   "version": "3.4.3"
  }
 },
 "nbformat": 4,
 "nbformat_minor": 2
}
